{
 "cells": [
  {
   "cell_type": "markdown",
   "metadata": {},
   "source": [
    "# CME 193 - Introduction to Scientific Python\n",
    "\n",
    "The course website is at [icme.github.io/cme193](https://icme.github.io/cme193/index.html)\n",
    "\n",
    "Please check there for any materials related for the course (and let me know if something needs to be updated)."
   ]
  },
  {
   "cell_type": "markdown",
   "metadata": {},
   "source": [
    "# Overview of Course\n",
    "\n",
    "You can find a list of topics we plan to cover on the [course website](https://icme.github.io/cme193/syllabus.html).  There will be a survey in a week or two to determine what additional topic(s) will be covered in the last week of the class.\n",
    "\n",
    "The goal of the course is to get you started with using Python for scientific computing.\n",
    "* We **are** going to cover common packages for linear algebra, optimization, and data science\n",
    "* We are **not** going to cover all of the Python language, or all of its applications\n",
    "    * We will cover aspects of the Python language as they are needed for our purposes\n",
    "\n",
    "This course is designed for\n",
    "* People who already know how to program (maybe not in Python)\n",
    "* People who want to use Python for research/coursework in a scientific or engineering discipline for modeling, simulations, or data science\n",
    "\n",
    "You don't need to have an expert background in programming or scientific computing to take this course.  Everyone starts somewhere, and if your interests are aligned with the goals of the course you should be ok."
   ]
  },
  {
   "cell_type": "markdown",
   "metadata": {},
   "source": [
    "## Structure of the Course\n",
    "\n",
    "Class: We'll intersperse lecture with breaks to work on exercises.  These breaks are good chances to try out what you learn, and ask for help if you're stuck.  You aren't required to submit solutions to the exercises, and should focus on exercises you find most interesting if there are multiple options.\n",
    "\n",
    "Homework: We'll have 2 homeworks, which should not be difficult or time consuming, but a chance to practice what we cover in class.\n",
    "\n",
    "Grading: This class is offered on a credit/no-credit basis.  Really, you're going to get out of it what you put into it.  My assumption is that you are taking the course because you see it as relevant to your education, and will try to learn material that you see as most important."
   ]
  },
  {
   "cell_type": "markdown",
   "metadata": {},
   "source": [
    "# Python"
   ]
  },
  {
   "cell_type": "code",
   "execution_count": null,
   "metadata": {},
   "outputs": [],
   "source": [
    "print(\"Hello, world!\")"
   ]
  },
  {
   "cell_type": "markdown",
   "metadata": {},
   "source": [
    "![xkcd_python](https://imgs.xkcd.com/comics/python.png)\n",
    "(From [xkcd](https://xkcd.com/))"
   ]
  },
  {
   "cell_type": "code",
   "execution_count": null,
   "metadata": {},
   "outputs": [],
   "source": [
    "import antigravity"
   ]
  },
  {
   "cell_type": "markdown",
   "metadata": {},
   "source": [
    "# Using Python\n",
    "\n",
    "We're going to use Python 3 for this course.  See the course website for details/instructions for installing python on your machine if you don't already have it.\n",
    "\n",
    "I'm running a [Jupyter](https://jupyter.org/) notebook.  To start up this notebook, from a terminal, `cd` to the directory you want to be in, and start up a notebook server using `jupyter notebook`.  This should pop up something in your web browser that lets you run notebooks.  We're going to use these notebooks throughout the course, so if you don't have Jupyter yet, install it at the end of class or when you get home.\n",
    "\n",
    "If you don't have Jupyter notebooks running yet, you can run a Python REPL in a terminal using the `python` command, or `python3`\n",
    "\n",
    "If you're using a terminal, you may also want to try `ipython` or `ipython3` which will give you things like tab-completion and syntax highlighting\n",
    "\n",
    "If you don't have python on your computer yet, ssh into [farmshare2](https://srcc.stanford.edu/farmshare2) and run Python 3 from a terminal remotely\n",
    "```bash\n",
    "> ssh <suid>@rice.stanford.edu\n",
    "```"
   ]
  },
  {
   "cell_type": "markdown",
   "metadata": {},
   "source": [
    "# Virtual Environments\n",
    "\n",
    "At some point, you may run into a situation where different projects require different versions of the same package.  One way to manage this is through virtual environments.  This also has the benefit of allowing others to reproduce the state of your system, and (ideally) makes your code/projects reproducible.\n",
    "\n",
    "We're going to cover how to do this with Anaconda python, using `conda`, but you can also do this using `pipenv` or `virtualenv` - for example, see [here](https://docs.python-guide.org/dev/virtualenvs/).\n",
    "\n",
    "You can find the documentation for managing environments using `conda` [here](https://conda.io/docs/user-guide/tasks/manage-environments.html)\n",
    "\n",
    "1. Create your environment\n",
    "```bash\n",
    "conda create --name cme193 python=3.6\n",
    "```\n",
    "`cme193` is the name of our virtual environment.  `python=3.6` indicates that we are going to use this specific version of python.  Generally you can specify which versions of packages should be used in your environment this way.\n",
    "\n",
    "2. Activate your environment\n",
    "```bash\n",
    "source activate cme193\n",
    "```\n",
    "to deactivate an environment, you can use\n",
    "```bash\n",
    "source deactivate cme193\n",
    "```\n",
    "\n",
    "3. Install packages and run python as you usually would\n",
    "```bash\n",
    "conda install numpy # can also use pip\n",
    "conda install scipy\n",
    "conda install matplotlib\n",
    "```\n",
    "\n",
    "4. Connect the environment to a jupyter notebook kernel\n",
    "```\n",
    "conda install ipykernel\n",
    "python -m ipykernel install --user --name cme193 --display-name \"Python (3.6-cme193)\"\n",
    "```\n",
    "\n",
    "Environments are something you *really* should use, but because there are a variety of ways to do this in practice, we're not going to enforce that you do it any particular way.  Sometimes you may see a reference to this process in lecture or homework, and if you're not using `conda` to manage environments, just translate the statements into your situation.\n",
    "\n",
    "A final comment on environments - you have now seen the (minimal) basics.  If you think there's something environments should reasonably do, chances are that you can actually do it.  In particular, automating the setup of environments using environment files is something you may one day wish to use to share your work."
   ]
  },
  {
   "cell_type": "markdown",
   "metadata": {},
   "source": [
    "# Variables\n",
    "\n",
    "One of the main differences in python compared to other languages you might be familiar with is that variables are not declared and are not strongly typed"
   ]
  },
  {
   "cell_type": "code",
   "execution_count": null,
   "metadata": {},
   "outputs": [],
   "source": [
    "x = 1\n",
    "print(x)"
   ]
  },
  {
   "cell_type": "code",
   "execution_count": null,
   "metadata": {},
   "outputs": [],
   "source": [
    "y = \"test\""
   ]
  },
  {
   "cell_type": "code",
   "execution_count": null,
   "metadata": {},
   "outputs": [],
   "source": [
    "y"
   ]
  },
  {
   "cell_type": "code",
   "execution_count": null,
   "metadata": {},
   "outputs": [],
   "source": [
    "x = 1\n",
    "x = \"string\"\n",
    "print(x)"
   ]
  },
  {
   "cell_type": "code",
   "execution_count": null,
   "metadata": {},
   "outputs": [],
   "source": [
    "x = 1\n",
    "type(x)"
   ]
  },
  {
   "cell_type": "code",
   "execution_count": null,
   "metadata": {},
   "outputs": [],
   "source": [
    "x = \"string\"\n",
    "type(x)"
   ]
  },
  {
   "cell_type": "code",
   "execution_count": null,
   "metadata": {},
   "outputs": [],
   "source": [
    "x = 0.1\n",
    "type(x)"
   ]
  },
  {
   "cell_type": "markdown",
   "metadata": {},
   "source": [
    "# Exercise 1\n",
    "\n",
    "(10 minutes)\n",
    "\n",
    "We're going to let you take a first stab at Python syntax.  If you already know Python, you can use this as a way to check your knowledge.  If you don't already know Python, search online or talk to a neighbor to work through the list.\n",
    "\n",
    "0. (optional) set up a new environment for CME 193\n",
    "1. output the string \"Hello, World!\" using Python\n",
    "2. import a Python Module\n",
    "    * Try importing the `os` module, and printing [your current path](https://docs.python.org/3/library/os.path.html#module-os.path)\n",
    "3. numeric variables\n",
    "    * assign a variable $x$ to have value 1\n",
    "    * increment $x$\n",
    "    * print the product of $x$ and 2\n",
    "4. write a for-loop that prints every integer between 1 and 10\n",
    "5. write a while-loop that prints every power of 2 less than 10,000\n",
    "6. write a function that takes two inputs, $a$ and $b$ and returns the value of $a+2b$\n",
    "7. How do you concatenate strings?\n",
    "8. How can you format a string to print a floating point number?  Integer?\n",
    "9. Write a function takes a number $n$ as input, and prints all [Fibonacci numbers](https://en.wikipedia.org/wiki/Fibonacci_number) less than $n$"
   ]
  },
  {
   "cell_type": "code",
   "execution_count": null,
   "metadata": {},
   "outputs": [],
   "source": []
  },
  {
   "cell_type": "markdown",
   "metadata": {},
   "source": [
    "# Basic Arithmetic\n",
    "\n",
    "Operators for integers:\n",
    "`+ - * / % **`\n",
    "\n",
    "Operators for floats:\n",
    "`+ - * / **`\n",
    "\n",
    "Boolean expressions:\n",
    "* keywords: `True` and `False` (note capitalization)\n",
    "* `==` equals: `5 == 5` yields `True`\n",
    "* `!=` does not equal: `5 != 5` yields `False`\n",
    "* `>` greater than: `5 > 4` yields `True`\n",
    "* `>=` greater than or equal: `5 >= 5` yields `True`\n",
    "* Similarly, we have `<` and `<=`.\n",
    "\n",
    "Logical operators:\n",
    "* `and`, `or`, and `not`\n",
    "* `True and False`\n",
    "* `True or False`\n",
    "* `not True`\n",
    "\n",
    "# Strings\n",
    "\n",
    "Concatenation: `str1 + str2`\n",
    "\n",
    "Printing: `print(str1)`"
   ]
  },
  {
   "cell_type": "code",
   "execution_count": null,
   "metadata": {},
   "outputs": [],
   "source": [
    "str1 = \"Hello, \"\n",
    "str2 = \"World!\"\n",
    "str2"
   ]
  },
  {
   "cell_type": "markdown",
   "metadata": {},
   "source": [
    "Formatting:"
   ]
  },
  {
   "cell_type": "code",
   "execution_count": null,
   "metadata": {},
   "outputs": [],
   "source": [
    "str1 = \"float %f, %f\" % (1.0,2.0)\n",
    "print(str1)\n",
    "str2 = \"integer %s\" % \"strting\"\n",
    "print(str2)\n",
    "str3 = \"input {}\".format(type(5)) # try this with different types\n",
    "print(str3, type(6))"
   ]
  },
  {
   "cell_type": "markdown",
   "metadata": {},
   "source": [
    "F - Strings"
   ]
  },
  {
   "cell_type": "code",
   "execution_count": null,
   "metadata": {},
   "outputs": [],
   "source": [
    "number = 23\n",
    "y = 42\n",
    "str4 = f\" the value of x is {number} and that of y is {y}\"\n",
    "print(str4)"
   ]
  },
  {
   "cell_type": "code",
   "execution_count": null,
   "metadata": {},
   "outputs": [],
   "source": [
    "# some methods\n",
    "str1 = \"Hello, \"\n",
    "str2 = \"World!\"\n",
    "str3 = str1 + str2\n",
    "print(str3)\n",
    "print(str3.upper())\n",
    "print(str3.lower())\n",
    "str1.replace?"
   ]
  },
  {
   "cell_type": "markdown",
   "metadata": {},
   "source": [
    "# Control Flow\n",
    "\n",
    "If statements:"
   ]
  },
  {
   "cell_type": "code",
   "execution_count": null,
   "metadata": {},
   "outputs": [],
   "source": [
    "x = 1\n",
    "y = 2\n",
    "z = 2\n",
    "if x == y:\n",
    "    print(\"Hello\")\n",
    "elif x == z:\n",
    "    print(\"Goodbye\")\n",
    "else:\n",
    "    print(\"???\")"
   ]
  },
  {
   "cell_type": "markdown",
   "metadata": {},
   "source": [
    "**For loops**\n"
   ]
  },
  {
   "cell_type": "code",
   "execution_count": null,
   "metadata": {},
   "outputs": [],
   "source": [
    "print(\"loop 1\")\n",
    "for i in range(5): # default - start at 0, increment by 1\n",
    "    print(i)\n",
    "\n",
    "print(\"\\nloop 2\")\n",
    "for i in range(10,2,-2): # inputs are start, stop, step\n",
    "    print(i)"
   ]
  },
  {
   "cell_type": "code",
   "execution_count": null,
   "metadata": {},
   "outputs": [],
   "source": [
    "range?"
   ]
  },
  {
   "cell_type": "code",
   "execution_count": null,
   "metadata": {},
   "outputs": [],
   "source": []
  },
  {
   "cell_type": "markdown",
   "metadata": {},
   "source": [
    "**while loops**\n",
    "\n",
    "When you don't know how to enumerate iterations"
   ]
  },
  {
   "cell_type": "code",
   "execution_count": null,
   "metadata": {},
   "outputs": [],
   "source": [
    "i = 1\n",
    "while i < 100:\n",
    "    print(i**2)\n",
    "    i += i**2 # a += b is short for a = a + b"
   ]
  },
  {
   "cell_type": "markdown",
   "metadata": {},
   "source": [
    "**continue** - skip the rest of a loop\n",
    "\n",
    "**break** - exit from the loop"
   ]
  },
  {
   "cell_type": "code",
   "execution_count": null,
   "metadata": {},
   "outputs": [],
   "source": [
    "for num in range(2, 10):# <---------------------------\\\n",
    "    if num % 2 == 0:#                                  \\\n",
    "        print(\"Found {}, an even number\".format(num))# |\n",
    "        continue # this jumps us back to the top -----/\n",
    "    print(\"Found {}, an odd number\".format(num))"
   ]
  },
  {
   "cell_type": "code",
   "execution_count": null,
   "metadata": {},
   "outputs": [],
   "source": [
    "max_n = 10\n",
    "for n in range(2, max_n):\n",
    "    for x in range(2, n):\n",
    "        if n % x == 0: # n divisible by x\n",
    "            print(n, 'equals', x, '*', n/x)\n",
    "            break\n",
    "    # else loop with no if statement!!!\n",
    "    else: # executed if no break in for loop\n",
    "        # loop fell through without finding a factor\n",
    "        print(n, 'is a prime number')"
   ]
  },
  {
   "cell_type": "markdown",
   "metadata": {},
   "source": [
    "**pass** does nothing"
   ]
  },
  {
   "cell_type": "code",
   "execution_count": null,
   "metadata": {},
   "outputs": [],
   "source": [
    "if False:\n",
    "    pass # to implement\n",
    "else:\n",
    "    print('True!')"
   ]
  },
  {
   "cell_type": "markdown",
   "metadata": {},
   "source": [
    "# Functions\n",
    "\n",
    "Functions are declared with the keyword `def`"
   ]
  },
  {
   "cell_type": "code",
   "execution_count": null,
   "metadata": {},
   "outputs": [],
   "source": [
    "# def tells python you're trying to declare a function# def t \n",
    "def triangle_area(base, height):\n",
    "    \"\"\"the function takes input arguments \n",
    "     (these variables are def'd in the function scope)\n",
    "    \n",
    "     return keyword shoots the result out of the function\"\"\"\n",
    "    return 0.5 * base * height\n",
    "\n",
    "print(type(triangle_area))\n",
    "triangle_area(1,2)"
   ]
  },
  {
   "cell_type": "code",
   "execution_count": null,
   "metadata": {},
   "outputs": [],
   "source": [
    "# everything in python is an object, and can be passed into a function\n",
    "def f(x):\n",
    "    return x+2\n",
    "\n",
    "def twice(f, x):\n",
    "    return f(f(x))\n",
    "\n",
    "twice(f, 2) # + 4"
   ]
  },
  {
   "cell_type": "code",
   "execution_count": null,
   "metadata": {},
   "outputs": [],
   "source": [
    "def n_apply(f, x, n):\n",
    "    for _ in range(n): # _ is dummy variable in iteration\n",
    "        x = f(x)\n",
    "    return x\n",
    "\n",
    "n_apply(f, 1, 5) # 1 + 2*5"
   ]
  },
  {
   "cell_type": "markdown",
   "metadata": {},
   "source": [
    "# Lists\n",
    "\n",
    "A list in Python is an ordered collection of objects"
   ]
  },
  {
   "cell_type": "code",
   "execution_count": null,
   "metadata": {},
   "outputs": [],
   "source": [
    "a = ['x', 1, 3.5]\n",
    "print(a)"
   ]
  },
  {
   "cell_type": "markdown",
   "metadata": {},
   "source": [
    "You can iterate over lists in a very natural way"
   ]
  },
  {
   "cell_type": "code",
   "execution_count": null,
   "metadata": {},
   "outputs": [],
   "source": [
    "for elt in [\"step1\", \"step2\"]:\n",
    "    print(elt)"
   ]
  },
  {
   "cell_type": "markdown",
   "metadata": {},
   "source": [
    "Python indexing starts at 0."
   ]
  },
  {
   "cell_type": "code",
   "execution_count": null,
   "metadata": {},
   "outputs": [],
   "source": [
    "a.remove?"
   ]
  },
  {
   "cell_type": "markdown",
   "metadata": {},
   "source": [
    "You can append to lists using `.append()`, and do other operations, such as `push()`, `pop()`, `insert()`, etc."
   ]
  },
  {
   "cell_type": "code",
   "execution_count": null,
   "metadata": {},
   "outputs": [],
   "source": [
    "a = []\n",
    "for i in range(10):\n",
    "    a += [i**2]"
   ]
  },
  {
   "cell_type": "code",
   "execution_count": null,
   "metadata": {},
   "outputs": [],
   "source": [
    "while len(a) >0 :\n",
    "    elt = a.pop()\n",
    "    print(elt)"
   ]
  },
  {
   "cell_type": "code",
   "execution_count": null,
   "metadata": {},
   "outputs": [],
   "source": [
    "a"
   ]
  },
  {
   "cell_type": "code",
   "execution_count": null,
   "metadata": {},
   "outputs": [],
   "source": [
    "import numpy as np\n",
    "np.sqrt?"
   ]
  },
  {
   "cell_type": "markdown",
   "metadata": {},
   "source": [
    "Python terminology:\n",
    "* a list is a \"class\"\n",
    "* the variable `a` is an object, or instance of the class\n",
    "* `append()` is a method"
   ]
  },
  {
   "cell_type": "markdown",
   "metadata": {},
   "source": [
    "## List Comprehensions\n",
    "\n",
    "Python's list comprehensions let you create lists in a way that is reminiscent of set notation\n",
    "\n",
    "$$ S = \\{ x ~\\mid~ 0 \\le x \\le 20, x\\mod 3 = 0\\}$$"
   ]
  },
  {
   "cell_type": "code",
   "execution_count": null,
   "metadata": {},
   "outputs": [],
   "source": [
    "S = [np.sqrt(x) for x in range(20) if x % 3 == 0]\n",
    "S"
   ]
  },
  {
   "cell_type": "code",
   "execution_count": null,
   "metadata": {},
   "outputs": [],
   "source": [
    "S = []\n",
    "for i in range(2):\n",
    "    for j in range(2):\n",
    "        for k in range(2):\n",
    "            S += [(i,j,k)]\n",
    "S"
   ]
  },
  {
   "cell_type": "code",
   "execution_count": null,
   "metadata": {},
   "outputs": [],
   "source": [
    "# you aren't restricted to a single for loop\n",
    "S = [(i,j,k) for i in range(2) for j in range(2) for k in range(2)]\n",
    "S"
   ]
  },
  {
   "cell_type": "markdown",
   "metadata": {},
   "source": [
    "Syntax is generally\n",
    "```python3\n",
    "S = [<elt> <for statement> <conditional>]\n",
    "```"
   ]
  },
  {
   "cell_type": "markdown",
   "metadata": {},
   "source": [
    "# Other Collections\n",
    "\n",
    "We've seen the `list` class, which is ordered, indexed, and mutable.  There are other Python collections that you may find useful:\n",
    "* `tuple` which is ordered, indexed, and immutable\n",
    "* `set` which is unordered, unindexed, mutable, and doesn't allow for duplicate elements\n",
    "* `dict` (dictionary), which is unordered, indexed, and mutable, with no duplicate keys."
   ]
  },
  {
   "cell_type": "code",
   "execution_count": null,
   "metadata": {},
   "outputs": [],
   "source": [
    "a_tuple = (1,2,4)\n",
    "a_tuple[0] = 3"
   ]
  },
  {
   "cell_type": "code",
   "execution_count": null,
   "metadata": {},
   "outputs": [],
   "source": [
    "a_set = {5,3,2,5}\n",
    "a_set"
   ]
  },
  {
   "cell_type": "code",
   "execution_count": null,
   "metadata": {},
   "outputs": [],
   "source": [
    "a_dict = {}\n",
    "a_dict[5] = 12\n",
    "a_dict[\"key_2\"] = [13,\"value\"]\n",
    "a_dict"
   ]
  },
  {
   "cell_type": "markdown",
   "metadata": {},
   "source": [
    "# Exercise 2\n",
    "\n",
    "**Lists**\n",
    "1. Create a list `['a', 'b', 'c']`\n",
    "2. use the `insert()` method to put the element `'d'` at index 1\n",
    "3. use the `remove()` method to delete the element `'b'` in the list\n",
    "\n",
    "**List comprehensions**\n",
    "1. What does the following list contain?\n",
    "```python \n",
    "X = [i for i in range(100)]\n",
    "```\n",
    "2. Interpret the following set as a list comprehension:\n",
    "$S_1 = \\{x\\in X \\mid x\\mod 5 = 2\\}$\n",
    "3. Intepret the following set as a list comprehension: $S_2 = \\{x \\in S_1 \\mid x \\text{ is even}\\}$\n",
    "4. generate the set of all tuples $(x,y)$ where $x\\in S_1$, $y\\in S_2$.\n",
    "\n",
    "**Other Collections**\n",
    "1. Try creating another type of collection\n",
    "2. try iterating over it."
   ]
  },
  {
   "cell_type": "code",
   "execution_count": null,
   "metadata": {},
   "outputs": [],
   "source": []
  },
  {
   "cell_type": "markdown",
   "metadata": {},
   "source": [
    "# NumPy\n",
    "\n",
    "[NumPy](http://www.numpy.org/) brings numeric arrays to Python, with many matlab-like functions"
   ]
  },
  {
   "cell_type": "code",
   "execution_count": null,
   "metadata": {},
   "outputs": [],
   "source": [
    "import numpy as np"
   ]
  },
  {
   "cell_type": "code",
   "execution_count": null,
   "metadata": {},
   "outputs": [],
   "source": [
    "np.array([1.0, 2.0, 3.0])"
   ]
  },
  {
   "cell_type": "markdown",
   "metadata": {},
   "source": [
    "NumPy arrays are *not* the same as python lists"
   ]
  },
  {
   "cell_type": "code",
   "execution_count": null,
   "metadata": {},
   "outputs": [],
   "source": [
    "# list\n",
    "l = [1., 2., 3.]\n",
    "print(l)\n",
    "print(type(l))\n",
    "# numpy array\n",
    "a = np.array(l)\n",
    "print(a)\n",
    "print(type(a))"
   ]
  },
  {
   "cell_type": "code",
   "execution_count": null,
   "metadata": {},
   "outputs": [],
   "source": [
    "2*l"
   ]
  },
  {
   "cell_type": "code",
   "execution_count": null,
   "metadata": {},
   "outputs": [],
   "source": [
    "2*a"
   ]
  },
  {
   "cell_type": "markdown",
   "metadata": {},
   "source": [
    "## Creating Arrays"
   ]
  },
  {
   "cell_type": "code",
   "execution_count": null,
   "metadata": {},
   "outputs": [],
   "source": [
    "# 1-dimensional arrays\n",
    "x = np.linspace(0,2*np.pi,100) # linear spacing of points\n",
    "print(len(x))\n",
    "y = np.random.rand(100) # numbers betwen 0 and 1\n",
    "print(y.shape)\n",
    "z = np.random.randn(100) # normal random variables\n",
    "print(len(z))"
   ]
  },
  {
   "cell_type": "code",
   "execution_count": null,
   "metadata": {},
   "outputs": [],
   "source": [
    "# n-dimensional arrays\n",
    "y = np.random.rand(10,10)\n",
    "print(y.shape)\n",
    "z = np.random.randn(10,9, 8)\n",
    "print(z.shape)"
   ]
  },
  {
   "cell_type": "markdown",
   "metadata": {},
   "source": [
    "### Why NumpPy?"
   ]
  },
  {
   "cell_type": "code",
   "execution_count": null,
   "metadata": {},
   "outputs": [],
   "source": [
    "x = np.random.rand(1000)\n",
    "y = np.random.rand(1000)"
   ]
  },
  {
   "cell_type": "code",
   "execution_count": null,
   "metadata": {},
   "outputs": [],
   "source": [
    "%%timeit\n",
    "z=0\n",
    "for i in range(1000):\n",
    "    z += x[i]*y[i]"
   ]
  },
  {
   "cell_type": "code",
   "execution_count": null,
   "metadata": {},
   "outputs": [],
   "source": [
    "%%timeit\n",
    "z = np.dot(np.array(x),np.array(y))"
   ]
  },
  {
   "cell_type": "code",
   "execution_count": null,
   "metadata": {},
   "outputs": [],
   "source": []
  }
 ],
 "metadata": {
  "kernelspec": {
   "display_name": "Python 3",
   "language": "python",
   "name": "python3"
  },
  "language_info": {
   "codemirror_mode": {
    "name": "ipython",
    "version": 3
   },
   "file_extension": ".py",
   "mimetype": "text/x-python",
   "name": "python",
   "nbconvert_exporter": "python",
   "pygments_lexer": "ipython3",
   "version": "3.7.6"
  }
 },
 "nbformat": 4,
 "nbformat_minor": 2
}
